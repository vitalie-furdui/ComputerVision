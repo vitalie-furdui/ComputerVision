{
 "cells": [
  {
   "cell_type": "markdown",
   "metadata": {},
   "source": [
    "# TASK 1: Days in month"
   ]
  },
  {
   "cell_type": "code",
   "execution_count": null,
   "metadata": {},
   "outputs": [],
   "source": [
    "month = int(input(\"Enter Month Number \"))\n",
    "\n",
    "# Validating User Input Correct Number\n",
    "while month > 12 or month < 1:\n",
    "    print(\"Invalid Month Number\")\n",
    "    month = int(input(\"Please Enter Month Number in (1-12)\"\"  - \"))\n",
    "    \n",
    "if month in (4, 6, 9, 11):\n",
    "    print(\"30 days\")\n",
    "elif month in (1, 3, 5, 7, 8, 10, 12):\n",
    "    print(\"31 days\")\n",
    "else:\n",
    "    print(\"28 or 29 days\")"
   ]
  },
  {
   "cell_type": "markdown",
   "metadata": {},
   "source": [
    "# TASK 2: Days in month Leap Year"
   ]
  },
  {
   "cell_type": "code",
   "execution_count": null,
   "metadata": {},
   "outputs": [],
   "source": [
    "month = int(input(\"Enter Month Number \"))\n",
    "\n",
    "# Validating User Input Correct Number\n",
    "while month > 12 or month < 1:\n",
    "    print(\"Invalid Month Number\")\n",
    "    month = int(input(\"Please Enter Month Number in 1-12\" \"  - \"))\n",
    "\n",
    "# Cheking if the Leap year\n",
    "year = int(input(\"Enter Year \"))\n",
    "if(year % 4 == 0) and (not(year % 100 == 0) or (year % 400 == 0)):\n",
    "    Leap_year = True\n",
    "else:\n",
    "    Leap_year = False\n",
    "    \n",
    "if month in (4, 6, 9, 11):\n",
    "    print(\"30 days\")\n",
    "elif month in (1, 3, 5, 7, 8, 10, 12):\n",
    "    print(\"31 days\")\n",
    "elif Leap_year:\n",
    "    print(\"29 days\")\n",
    "else:\n",
    "    print(\"28 days\")"
   ]
  }
 ],
 "metadata": {
  "kernelspec": {
   "display_name": "Python 3",
   "language": "python",
   "name": "python3"
  },
  "language_info": {
   "codemirror_mode": {
    "name": "ipython",
    "version": 3
   },
   "file_extension": ".py",
   "mimetype": "text/x-python",
   "name": "python",
   "nbconvert_exporter": "python",
   "pygments_lexer": "ipython3",
   "version": "3.8.5"
  }
 },
 "nbformat": 4,
 "nbformat_minor": 4
}
